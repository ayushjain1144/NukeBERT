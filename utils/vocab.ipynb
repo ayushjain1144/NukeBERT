{
  "nbformat": 4,
  "nbformat_minor": 0,
  "metadata": {
    "colab": {
      "name": "vocab.ipynb",
      "version": "0.3.2",
      "provenance": [],
      "collapsed_sections": [],
      "include_colab_link": true
    },
    "kernelspec": {
      "name": "python3",
      "display_name": "Python 3"
    },
    "accelerator": "GPU"
  },
  "cells": [
    {
      "cell_type": "markdown",
      "metadata": {
        "id": "view-in-github",
        "colab_type": "text"
      },
      "source": [
        "<a href=\"https://colab.research.google.com/github/ayushjain1144/semantic-segmentation-IGCAR/blob/master/vocab.ipynb\" target=\"_parent\"><img src=\"https://colab.research.google.com/assets/colab-badge.svg\" alt=\"Open In Colab\"/></a>"
      ]
    },
    {
      "cell_type": "code",
      "metadata": {
        "id": "pCwXPEMj7SYs",
        "colab_type": "code",
        "colab": {
          "base_uri": "https://localhost:8080/",
          "height": 124
        },
        "outputId": "7c6e2b6a-88a5-46f3-bbff-0ac400a42370"
      },
      "source": [
        "!pip install sentencepiece"
      ],
      "execution_count": 1,
      "outputs": [
        {
          "output_type": "stream",
          "text": [
            "Collecting sentencepiece\n",
            "\u001b[?25l  Downloading https://files.pythonhosted.org/packages/00/95/7f357995d5eb1131aa2092096dca14a6fc1b1d2860bd99c22a612e1d1019/sentencepiece-0.1.82-cp36-cp36m-manylinux1_x86_64.whl (1.0MB)\n",
            "\r\u001b[K     |▎                               | 10kB 22.3MB/s eta 0:00:01\r\u001b[K     |▋                               | 20kB 3.1MB/s eta 0:00:01\r\u001b[K     |█                               | 30kB 4.5MB/s eta 0:00:01\r\u001b[K     |█▎                              | 40kB 3.0MB/s eta 0:00:01\r\u001b[K     |█▋                              | 51kB 3.7MB/s eta 0:00:01\r\u001b[K     |██                              | 61kB 4.4MB/s eta 0:00:01\r\u001b[K     |██▏                             | 71kB 5.1MB/s eta 0:00:01\r\u001b[K     |██▌                             | 81kB 5.7MB/s eta 0:00:01\r\u001b[K     |██▉                             | 92kB 6.4MB/s eta 0:00:01\r\u001b[K     |███▏                            | 102kB 4.9MB/s eta 0:00:01\r\u001b[K     |███▌                            | 112kB 4.9MB/s eta 0:00:01\r\u001b[K     |███▉                            | 122kB 4.9MB/s eta 0:00:01\r\u001b[K     |████                            | 133kB 4.9MB/s eta 0:00:01\r\u001b[K     |████▍                           | 143kB 4.9MB/s eta 0:00:01\r\u001b[K     |████▊                           | 153kB 4.9MB/s eta 0:00:01\r\u001b[K     |█████                           | 163kB 4.9MB/s eta 0:00:01\r\u001b[K     |█████▍                          | 174kB 4.9MB/s eta 0:00:01\r\u001b[K     |█████▊                          | 184kB 4.9MB/s eta 0:00:01\r\u001b[K     |██████                          | 194kB 4.9MB/s eta 0:00:01\r\u001b[K     |██████▎                         | 204kB 4.9MB/s eta 0:00:01\r\u001b[K     |██████▋                         | 215kB 4.9MB/s eta 0:00:01\r\u001b[K     |███████                         | 225kB 4.9MB/s eta 0:00:01\r\u001b[K     |███████▎                        | 235kB 4.9MB/s eta 0:00:01\r\u001b[K     |███████▋                        | 245kB 4.9MB/s eta 0:00:01\r\u001b[K     |███████▉                        | 256kB 4.9MB/s eta 0:00:01\r\u001b[K     |████████▏                       | 266kB 4.9MB/s eta 0:00:01\r\u001b[K     |████████▌                       | 276kB 4.9MB/s eta 0:00:01\r\u001b[K     |████████▉                       | 286kB 4.9MB/s eta 0:00:01\r\u001b[K     |█████████▏                      | 296kB 4.9MB/s eta 0:00:01\r\u001b[K     |█████████▌                      | 307kB 4.9MB/s eta 0:00:01\r\u001b[K     |█████████▊                      | 317kB 4.9MB/s eta 0:00:01\r\u001b[K     |██████████                      | 327kB 4.9MB/s eta 0:00:01\r\u001b[K     |██████████▍                     | 337kB 4.9MB/s eta 0:00:01\r\u001b[K     |██████████▊                     | 348kB 4.9MB/s eta 0:00:01\r\u001b[K     |███████████                     | 358kB 4.9MB/s eta 0:00:01\r\u001b[K     |███████████▍                    | 368kB 4.9MB/s eta 0:00:01\r\u001b[K     |███████████▋                    | 378kB 4.9MB/s eta 0:00:01\r\u001b[K     |████████████                    | 389kB 4.9MB/s eta 0:00:01\r\u001b[K     |████████████▎                   | 399kB 4.9MB/s eta 0:00:01\r\u001b[K     |████████████▋                   | 409kB 4.9MB/s eta 0:00:01\r\u001b[K     |█████████████                   | 419kB 4.9MB/s eta 0:00:01\r\u001b[K     |█████████████▎                  | 430kB 4.9MB/s eta 0:00:01\r\u001b[K     |█████████████▌                  | 440kB 4.9MB/s eta 0:00:01\r\u001b[K     |█████████████▉                  | 450kB 4.9MB/s eta 0:00:01\r\u001b[K     |██████████████▏                 | 460kB 4.9MB/s eta 0:00:01\r\u001b[K     |██████████████▌                 | 471kB 4.9MB/s eta 0:00:01\r\u001b[K     |██████████████▉                 | 481kB 4.9MB/s eta 0:00:01\r\u001b[K     |███████████████▏                | 491kB 4.9MB/s eta 0:00:01\r\u001b[K     |███████████████▍                | 501kB 4.9MB/s eta 0:00:01\r\u001b[K     |███████████████▊                | 512kB 4.9MB/s eta 0:00:01\r\u001b[K     |████████████████                | 522kB 4.9MB/s eta 0:00:01\r\u001b[K     |████████████████▍               | 532kB 4.9MB/s eta 0:00:01\r\u001b[K     |████████████████▊               | 542kB 4.9MB/s eta 0:00:01\r\u001b[K     |█████████████████               | 552kB 4.9MB/s eta 0:00:01\r\u001b[K     |█████████████████▎              | 563kB 4.9MB/s eta 0:00:01\r\u001b[K     |█████████████████▋              | 573kB 4.9MB/s eta 0:00:01\r\u001b[K     |██████████████████              | 583kB 4.9MB/s eta 0:00:01\r\u001b[K     |██████████████████▎             | 593kB 4.9MB/s eta 0:00:01\r\u001b[K     |██████████████████▋             | 604kB 4.9MB/s eta 0:00:01\r\u001b[K     |███████████████████             | 614kB 4.9MB/s eta 0:00:01\r\u001b[K     |███████████████████▎            | 624kB 4.9MB/s eta 0:00:01\r\u001b[K     |███████████████████▌            | 634kB 4.9MB/s eta 0:00:01\r\u001b[K     |███████████████████▉            | 645kB 4.9MB/s eta 0:00:01\r\u001b[K     |████████████████████▏           | 655kB 4.9MB/s eta 0:00:01\r\u001b[K     |████████████████████▌           | 665kB 4.9MB/s eta 0:00:01\r\u001b[K     |████████████████████▉           | 675kB 4.9MB/s eta 0:00:01\r\u001b[K     |█████████████████████▏          | 686kB 4.9MB/s eta 0:00:01\r\u001b[K     |█████████████████████▍          | 696kB 4.9MB/s eta 0:00:01\r\u001b[K     |█████████████████████▊          | 706kB 4.9MB/s eta 0:00:01\r\u001b[K     |██████████████████████          | 716kB 4.9MB/s eta 0:00:01\r\u001b[K     |██████████████████████▍         | 727kB 4.9MB/s eta 0:00:01\r\u001b[K     |██████████████████████▊         | 737kB 4.9MB/s eta 0:00:01\r\u001b[K     |███████████████████████         | 747kB 4.9MB/s eta 0:00:01\r\u001b[K     |███████████████████████▎        | 757kB 4.9MB/s eta 0:00:01\r\u001b[K     |███████████████████████▋        | 768kB 4.9MB/s eta 0:00:01\r\u001b[K     |████████████████████████        | 778kB 4.9MB/s eta 0:00:01\r\u001b[K     |████████████████████████▎       | 788kB 4.9MB/s eta 0:00:01\r\u001b[K     |████████████████████████▋       | 798kB 4.9MB/s eta 0:00:01\r\u001b[K     |█████████████████████████       | 808kB 4.9MB/s eta 0:00:01\r\u001b[K     |█████████████████████████▏      | 819kB 4.9MB/s eta 0:00:01\r\u001b[K     |█████████████████████████▌      | 829kB 4.9MB/s eta 0:00:01\r\u001b[K     |█████████████████████████▉      | 839kB 4.9MB/s eta 0:00:01\r\u001b[K     |██████████████████████████▏     | 849kB 4.9MB/s eta 0:00:01\r\u001b[K     |██████████████████████████▌     | 860kB 4.9MB/s eta 0:00:01\r\u001b[K     |██████████████████████████▉     | 870kB 4.9MB/s eta 0:00:01\r\u001b[K     |███████████████████████████     | 880kB 4.9MB/s eta 0:00:01\r\u001b[K     |███████████████████████████▍    | 890kB 4.9MB/s eta 0:00:01\r\u001b[K     |███████████████████████████▊    | 901kB 4.9MB/s eta 0:00:01\r\u001b[K     |████████████████████████████    | 911kB 4.9MB/s eta 0:00:01\r\u001b[K     |████████████████████████████▍   | 921kB 4.9MB/s eta 0:00:01\r\u001b[K     |████████████████████████████▊   | 931kB 4.9MB/s eta 0:00:01\r\u001b[K     |█████████████████████████████   | 942kB 4.9MB/s eta 0:00:01\r\u001b[K     |█████████████████████████████▎  | 952kB 4.9MB/s eta 0:00:01\r\u001b[K     |█████████████████████████████▋  | 962kB 4.9MB/s eta 0:00:01\r\u001b[K     |██████████████████████████████  | 972kB 4.9MB/s eta 0:00:01\r\u001b[K     |██████████████████████████████▎ | 983kB 4.9MB/s eta 0:00:01\r\u001b[K     |██████████████████████████████▋ | 993kB 4.9MB/s eta 0:00:01\r\u001b[K     |██████████████████████████████▉ | 1.0MB 4.9MB/s eta 0:00:01\r\u001b[K     |███████████████████████████████▏| 1.0MB 4.9MB/s eta 0:00:01\r\u001b[K     |███████████████████████████████▌| 1.0MB 4.9MB/s eta 0:00:01\r\u001b[K     |███████████████████████████████▉| 1.0MB 4.9MB/s eta 0:00:01\r\u001b[K     |████████████████████████████████| 1.0MB 4.9MB/s \n",
            "\u001b[?25hInstalling collected packages: sentencepiece\n",
            "Successfully installed sentencepiece-0.1.82\n"
          ],
          "name": "stdout"
        }
      ]
    },
    {
      "cell_type": "code",
      "metadata": {
        "id": "kKjzH_u47Wvn",
        "colab_type": "code",
        "colab": {}
      },
      "source": [
        "import sentencepiece as spm\n",
        "import random"
      ],
      "execution_count": 0,
      "outputs": []
    },
    {
      "cell_type": "code",
      "metadata": {
        "id": "Q_yppF3k7iGZ",
        "colab_type": "code",
        "colab": {
          "base_uri": "https://localhost:8080/",
          "height": 34
        },
        "outputId": "ce2d3fd7-58cb-488e-f630-1c83d50dc2d7"
      },
      "source": [
        "\n",
        "MODEL_PREFIX = \"tokenizer\"\n",
        "VOC_SIZE = 32000\n",
        "NUM_PLACEHOLDERS = 256\n",
        "SUBSAMPLE_SIZE = 12800000\n",
        "\n",
        "SPM_COMMAND = ('--input={} --model_prefix={} '\n",
        "              '--vocab_size={} --input_sentence_size={} '\n",
        "              '--shuffle_input_sentence=true '\n",
        "              '--bos_id=-1 --eos_id=-1').format(\n",
        "              'final_data.txt', MODEL_PREFIX,\n",
        "               VOC_SIZE - NUM_PLACEHOLDERS, SUBSAMPLE_SIZE)\n",
        "spm.SentencePieceTrainer.Train(SPM_COMMAND)"
      ],
      "execution_count": 3,
      "outputs": [
        {
          "output_type": "execute_result",
          "data": {
            "text/plain": [
              "True"
            ]
          },
          "metadata": {
            "tags": []
          },
          "execution_count": 3
        }
      ]
    },
    {
      "cell_type": "code",
      "metadata": {
        "id": "d-bQpCpY23ec",
        "colab_type": "code",
        "colab": {
          "base_uri": "https://localhost:8080/",
          "height": 191
        },
        "outputId": "3b6bc123-afe2-46b5-fa87-68b1541cf664"
      },
      "source": [
        "!head -n 10 tokenizer.vocab\n"
      ],
      "execution_count": 4,
      "outputs": [
        {
          "output_type": "stream",
          "text": [
            "<unk>\t0\n",
            "▁the\t-2.60062\n",
            ".\t-3.18523\n",
            "▁and\t-3.65929\n",
            "▁for\t-4.38224\n",
            "s\t-4.4933\n",
            "▁with\t-4.95176\n",
            "▁are\t-5.08314\n",
            "▁that\t-5.16117\n",
            "▁this\t-5.25522\n"
          ],
          "name": "stdout"
        }
      ]
    },
    {
      "cell_type": "code",
      "metadata": {
        "id": "U5mumMCB3HH8",
        "colab_type": "code",
        "outputId": "7931fbf6-2bff-401e-8d6b-8d3e516a3c9d",
        "colab": {
          "base_uri": "https://localhost:8080/",
          "height": 52
        }
      },
      "source": [
        "\n",
        "def read_sentencepiece_vocab(filepath):\n",
        "  voc = []\n",
        "  \n",
        "  with open(filepath, encoding='utf-8') as foo:\n",
        "    for line in foo:\n",
        "      voc.append(line.split(\"\\t\")[0])\n",
        "      \n",
        "    voc = voc[1:]\n",
        "    return voc\n",
        "  \n",
        "snt_vocab = read_sentencepiece_vocab(\"{}.vocab\".format(MODEL_PREFIX))\n",
        "print(\"Learnt vocab size: {}\".format(len(snt_vocab)))\n",
        "print(\"Sample tokens: {}\".format(random.sample(snt_vocab, 10)))\n"
      ],
      "execution_count": 7,
      "outputs": [
        {
          "output_type": "stream",
          "text": [
            "Learnt vocab size: 31743\n",
            "Sample tokens: ['▁barres', '▁fecr', '▁wv', 'einrichtung', 'mtembh', '▁compaction', '▁wilhelm', '▁jj', 'ugelumlaufmutter', 'added']\n"
          ],
          "name": "stdout"
        }
      ]
    },
    {
      "cell_type": "code",
      "metadata": {
        "id": "0B_E5tRo9CyD",
        "colab_type": "code",
        "colab": {}
      },
      "source": [
        "\n",
        "def parse_sentencepiece_token(token):\n",
        "  if token.startswith(\"▁\"):\n",
        "    return token[1:]\n",
        "  else:\n",
        "    return \"##\" + token\n",
        "    "
      ],
      "execution_count": 0,
      "outputs": []
    },
    {
      "cell_type": "code",
      "metadata": {
        "id": "yW9QoBXg9UNT",
        "colab_type": "code",
        "colab": {}
      },
      "source": [
        "bert_vocab = list(map(parse_sentencepiece_token, snt_vocab))"
      ],
      "execution_count": 0,
      "outputs": []
    },
    {
      "cell_type": "code",
      "metadata": {
        "id": "SXp_Xh4l9ebB",
        "colab_type": "code",
        "colab": {}
      },
      "source": [
        "ctrl_symbols = [\"[PAD]\", \"[UNK]\", \"[CLS]\", \"[SEP]\", \"[MASK]\"]\n",
        "bert_vocab = ctrl_symbols + bert_vocab"
      ],
      "execution_count": 0,
      "outputs": []
    },
    {
      "cell_type": "code",
      "metadata": {
        "id": "J4YNyvUz99Z0",
        "colab_type": "code",
        "outputId": "3f7f0935-1437-4beb-fb66-4b765a806a29",
        "colab": {
          "base_uri": "https://localhost:8080/",
          "height": 34
        }
      },
      "source": [
        "bert_vocab += [\"[UNUSED_{}]\".format(i) for i in range(VOC_SIZE - len(bert_vocab))]\n",
        "print(len(bert_vocab))"
      ],
      "execution_count": 11,
      "outputs": [
        {
          "output_type": "stream",
          "text": [
            "32000\n"
          ],
          "name": "stdout"
        }
      ]
    },
    {
      "cell_type": "code",
      "metadata": {
        "id": "zMMttcfM-OWt",
        "colab_type": "code",
        "colab": {}
      },
      "source": [
        "with open('trained_vocab.txt', \"w\") as foo:\n",
        "  foo.write(\"\\n\".join([word for word in bert_vocab]))"
      ],
      "execution_count": 0,
      "outputs": []
    },
    {
      "cell_type": "code",
      "metadata": {
        "id": "A0D2rUC1-g7u",
        "colab_type": "code",
        "colab": {}
      },
      "source": [
        ""
      ],
      "execution_count": 0,
      "outputs": []
    }
  ]
}