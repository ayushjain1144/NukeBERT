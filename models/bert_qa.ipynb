{
  "nbformat": 4,
  "nbformat_minor": 0,
  "metadata": {
    "colab": {
      "name": "bert_qa.ipynb",
      "provenance": [],
      "collapsed_sections": []
    },
    "kernelspec": {
      "name": "python3",
      "display_name": "Python 3"
    },
    "accelerator": "GPU"
  },
  "cells": [
    {
      "cell_type": "code",
      "metadata": {
        "id": "glx_7er-Et3N"
      },
      "source": [
        "!git clone https://github.com/google-research/bert"
      ],
      "execution_count": null,
      "outputs": []
    },
    {
      "cell_type": "code",
      "metadata": {
        "id": "IFGepQ6VG-rG"
      },
      "source": [
        "from google.colab import drive\n",
        "drive.mount('/content/gdrive')\n",
        "\n",
        "!ln -s /content/gdrive/My\\ Drive/igcar_ps/ /mydrive"
      ],
      "execution_count": null,
      "outputs": []
    },
    {
      "cell_type": "code",
      "metadata": {
        "id": "fJ3AgIcMHbUW"
      },
      "source": [
        "import os\n",
        "import sys\n",
        "import json\n",
        "import nltk\n",
        "import random\n",
        "import logging\n",
        "import tensorflow as tf\n",
        "#import sentencepiece as spm\n",
        "\n",
        "from glob import glob\n",
        "from google.colab import auth, drive\n",
        "from tensorflow.keras.utils import Progbar\n",
        "\n",
        "sys.path.append(\"bert\")\n",
        "\n",
        "\n",
        "\n",
        "from bert import modeling, optimization, tokenization\n",
        "#from bert.run_pretraining import input_fn_builder, model_fn_builder\n",
        "\n",
        "auth.authenticate_user()\n",
        "\n",
        "log = logging.getLogger('tensorflow')\n",
        "log.setLevel(logging.INFO)\n",
        "\n",
        "formatter = logging.Formatter('%(asctime)s : \\\n",
        "    %(message)s')\n",
        "sh = logging.StreamHandler()\n",
        "sh.setLevel(logging.INFO)\n",
        "sh.setFormatter(formatter)\n",
        "log.handlers = [sh]\n",
        "\n",
        "if 'COLAB_TPU_ADDR' in os.environ:\n",
        "    log.info(\"Using TPU runtime\")\n",
        "    USE_TPU = True\n",
        "    TPU_ADDRESS = 'grpc://' + os.environ['COLAB_TPU_ADDR']\n",
        "    \n",
        "    with tf.Session(TPU_ADDRESS) as session:\n",
        "        log.info('TPU address is ' + TPU_ADDRESS)\n",
        "        with open('/content/adc.json', 'r') as f:\n",
        "          auth_info = json.load(f)\n",
        "        \n",
        "        tf.contrib.cloud.configure_gcs(session, credentials=auth_info)\n",
        "        \n",
        "       \n",
        "else:\n",
        "    log.warning('Not connected to TPU runtime')\n",
        "    USE_TPU = False"
      ],
      "execution_count": null,
      "outputs": []
    },
    {
      "cell_type": "code",
      "metadata": {
        "id": "eNjOD4x8E7zU"
      },
      "source": [
        "BUCKET_PATH = \"gs://ayushjain1144-bucket/\"\n",
        "BERT_MODEL = 'uncased_L-12_H-768_A-12'\n",
        "BERT_PRETRAINED_DIR = BUCKET_PATH + BERT_MODEL\n",
        "print('****** BERT pretrained directory: {} *****'.format(BERT_PRETRAINED_DIR)) \n",
        "#!ls BERT_PRETRAINED_DIR"
      ],
      "execution_count": null,
      "outputs": []
    },
    {
      "cell_type": "code",
      "metadata": {
        "id": "fIahX1aFIagU"
      },
      "source": [
        "BERT_CONFIG = BERT_PRETRAINED_DIR + '/bert_config.json'\n",
        "CHKPT_DIR = BERT_PRETRAINED_DIR + '/bert_model.ckpt.*'\n",
        "VOCAB_FILE = BERT_PRETRAINED_DIR + '/vocab.txt'\n",
        "INIT_CHECKPOINT = BERT_PRETRAINED_DIR + '/bert_model.ckpt'"
      ],
      "execution_count": null,
      "outputs": []
    },
    {
      "cell_type": "code",
      "metadata": {
        "id": "eaSJVIWAAprv"
      },
      "source": [
        "QA_DATASET = BUCKET_PATH + 'qa_dataset'\n",
        "QA_TRAIN_FILE = QA_DATASET + '/train-v1.1.json'\n",
        "QA_PREDICT_FILE = QA_DATASET + '/dev-v1.1.json'\n",
        "QA_EVALUATE = QA_DATASET + '/evaluate-v1.1.py'\n"
      ],
      "execution_count": null,
      "outputs": []
    },
    {
      "cell_type": "code",
      "metadata": {
        "id": "qx1o4y43-xGu"
      },
      "source": [
        "OUTPUT_DIR = BUCKET_PATH + 'output-dir/'"
      ],
      "execution_count": null,
      "outputs": []
    },
    {
      "cell_type": "code",
      "metadata": {
        "id": "o3pQ9wOK837N"
      },
      "source": [
        "PRED_JSON = OUTPUT_DIR + '/predictions.json'"
      ],
      "execution_count": null,
      "outputs": []
    },
    {
      "cell_type": "code",
      "metadata": {
        "id": "S-1_7ih6IdJu",
        "outputId": "d63c0506-7422-40fb-bf2f-7692407c37cc",
        "colab": {
          "base_uri": "https://localhost:8080/",
          "height": 55
        }
      },
      "source": [
        "XARGS_CMD = (\"python3 bert/run_squad.py \"\n",
        "            \"--vocab_file={} \"\n",
        "            \"--bert_config_file={} \"\n",
        "            \"--init_checkpoint={} \"\n",
        "            \"--do_train=True \"\n",
        "            \"--train_file={} \"\n",
        "            \"--do_predict=True \"\n",
        "            \"--predict_file={} \"\n",
        "            \"--train_batch_size=12 \"\n",
        "            \"--learning_rate=3e-5 \"\n",
        "            \"--num_train_epochs=2.0 \"\n",
        "            \"--max_seq_length=256 \"\n",
        "            \"--doc_stride=128 \"\n",
        "            \"--output_dir={} \"\n",
        "            )\n",
        "XARGS_CMD = XARGS_CMD.format(VOCAB_FILE, \n",
        "                            BERT_CONFIG,\n",
        "                            INIT_CHECKPOINT,\n",
        "                            QA_TRAIN_FILE,\n",
        "                            QA_PREDICT_FILE,\n",
        "                            OUTPUT_DIR)\n",
        "                           \n",
        "print(XARGS_CMD)"
      ],
      "execution_count": null,
      "outputs": [
        {
          "output_type": "stream",
          "text": [
            "python3 bert/run_squad.py --vocab_file=gs://ayushjain1144-bucket/uncased_L-12_H-768_A-12/vocab.txt --bert_config_file=gs://ayushjain1144-bucket/uncased_L-12_H-768_A-12/bert_config.json --init_checkpoint=gs://ayushjain1144-bucket/uncased_L-12_H-768_A-12/bert_model.ckpt --do_train=True --train_file=gs://ayushjain1144-bucket/qa_dataset/train-v1.1.json --do_predict=True --predict_file=gs://ayushjain1144-bucket/qa_dataset/dev-v1.1.json --train_batch_size=12 --learning_rate=3e-5 --num_train_epochs=2.0 --max_seq_length=256 --doc_stride=128 --output_dir=gs://ayushjain1144-bucket/output-dir/ \n"
          ],
          "name": "stdout"
        }
      ]
    },
    {
      "cell_type": "code",
      "metadata": {
        "id": "Pyf3-worIQq5"
      },
      "source": [
        "!$XARGS_CMD"
      ],
      "execution_count": null,
      "outputs": []
    },
    {
      "cell_type": "code",
      "metadata": {
        "id": "AYYpevLgJkXJ"
      },
      "source": [
        "!python3 /mydrive/qa_dataset/evaluate-v1.1.py /mydrive/qa_dataset/dev-v1.1.json output-dir_predictions.json"
      ],
      "execution_count": null,
      "outputs": []
    }
  ]
}