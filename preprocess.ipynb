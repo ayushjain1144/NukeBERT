{
  "nbformat": 4,
  "nbformat_minor": 0,
  "metadata": {
    "colab": {
      "name": "preprocess.ipynb",
      "version": "0.3.2",
      "provenance": [],
      "include_colab_link": true
    },
    "kernelspec": {
      "name": "python3",
      "display_name": "Python 3"
    },
    "accelerator": "GPU"
  },
  "cells": [
    {
      "cell_type": "markdown",
      "metadata": {
        "id": "view-in-github",
        "colab_type": "text"
      },
      "source": [
        "<a href=\"https://colab.research.google.com/github/ayushjain1144/semantic-segmentation-IGCAR/blob/master/preprocess.ipynb\" target=\"_parent\"><img src=\"https://colab.research.google.com/assets/colab-badge.svg\" alt=\"Open In Colab\"/></a>"
      ]
    },
    {
      "cell_type": "code",
      "metadata": {
        "id": "dNDDKi3MBXoo",
        "colab_type": "code",
        "colab": {
          "base_uri": "https://localhost:8080/",
          "height": 753
        },
        "outputId": "7ec7b4f1-7801-44c6-fae9-e8e5232b30c5"
      },
      "source": [
        "from google.colab import drive\n",
        "drive.mount('/content/gdrive')\n",
        "\n",
        "\n",
        "!pip install pytesseract\n",
        "!pip install tesseract-ocr\n",
        "!pip install pdf2image\n",
        "!pip install PyPDF2\n",
        "!sudo apt-get install poppler\n",
        "!sudo apt install poppler-utils\n",
        "!sudo apt install tesseract-ocr"
      ],
      "execution_count": 32,
      "outputs": [
        {
          "output_type": "stream",
          "text": [
            "Drive already mounted at /content/gdrive; to attempt to forcibly remount, call drive.mount(\"/content/gdrive\", force_remount=True).\n",
            "Requirement already satisfied: pytesseract in /usr/local/lib/python3.6/dist-packages (0.2.7)\n",
            "Requirement already satisfied: Pillow in /usr/local/lib/python3.6/dist-packages (from pytesseract) (4.3.0)\n",
            "Requirement already satisfied: olefile in /usr/local/lib/python3.6/dist-packages (from Pillow->pytesseract) (0.46)\n",
            "Collecting tesseract-ocr\n",
            "  Using cached https://files.pythonhosted.org/packages/e2/0d/dcee3dd0fc4c7bcd18125a98f8ba6d9db7aecaa40770595203e312649587/tesseract-ocr-0.0.1.tar.gz\n",
            "Requirement already satisfied: cython in /usr/local/lib/python3.6/dist-packages (from tesseract-ocr) (0.29.10)\n",
            "Building wheels for collected packages: tesseract-ocr\n",
            "  Building wheel for tesseract-ocr (setup.py) ... \u001b[?25lerror\n",
            "\u001b[31m  ERROR: Failed building wheel for tesseract-ocr\u001b[0m\n",
            "\u001b[?25h  Running setup.py clean for tesseract-ocr\n",
            "Failed to build tesseract-ocr\n",
            "Installing collected packages: tesseract-ocr\n",
            "  Running setup.py install for tesseract-ocr ... \u001b[?25l\u001b[?25herror\n",
            "\u001b[31mERROR: Command \"/usr/bin/python3 -u -c 'import setuptools, tokenize;__file__='\"'\"'/tmp/pip-install-6zu3cdgt/tesseract-ocr/setup.py'\"'\"';f=getattr(tokenize, '\"'\"'open'\"'\"', open)(__file__);code=f.read().replace('\"'\"'\\r\\n'\"'\"', '\"'\"'\\n'\"'\"');f.close();exec(compile(code, __file__, '\"'\"'exec'\"'\"'))' install --record /tmp/pip-record-2vojvdmq/install-record.txt --single-version-externally-managed --compile\" failed with error code 1 in /tmp/pip-install-6zu3cdgt/tesseract-ocr/\u001b[0m\n",
            "Requirement already satisfied: pdf2image in /usr/local/lib/python3.6/dist-packages (1.5.4)\n",
            "Requirement already satisfied: pillow in /usr/local/lib/python3.6/dist-packages (from pdf2image) (4.3.0)\n",
            "Requirement already satisfied: olefile in /usr/local/lib/python3.6/dist-packages (from pillow->pdf2image) (0.46)\n",
            "Requirement already satisfied: PyPDF2 in /usr/local/lib/python3.6/dist-packages (1.26.0)\n",
            "Reading package lists... Done\n",
            "Building dependency tree       \n",
            "Reading state information... Done\n",
            "E: Unable to locate package poppler\n",
            "Reading package lists... Done\n",
            "Building dependency tree       \n",
            "Reading state information... Done\n",
            "poppler-utils is already the newest version (0.62.0-2ubuntu2.8).\n",
            "The following package was automatically installed and is no longer required:\n",
            "  libnvidia-common-410\n",
            "Use 'sudo apt autoremove' to remove it.\n",
            "0 upgraded, 0 newly installed, 0 to remove and 8 not upgraded.\n",
            "Reading package lists... Done\n",
            "Building dependency tree       \n",
            "Reading state information... Done\n",
            "tesseract-ocr is already the newest version (4.00~git2288-10f4998a-2).\n",
            "The following package was automatically installed and is no longer required:\n",
            "  libnvidia-common-410\n",
            "Use 'sudo apt autoremove' to remove it.\n",
            "0 upgraded, 0 newly installed, 0 to remove and 8 not upgraded.\n"
          ],
          "name": "stdout"
        }
      ]
    },
    {
      "cell_type": "code",
      "metadata": {
        "id": "Xa8-jJrpBrfw",
        "colab_type": "code",
        "colab": {}
      },
      "source": [
        ""
      ],
      "execution_count": 0,
      "outputs": []
    },
    {
      "cell_type": "code",
      "metadata": {
        "id": "LUe09zwDDcqb",
        "colab_type": "code",
        "colab": {
          "base_uri": "https://localhost:8080/",
          "height": 35
        },
        "outputId": "9569ebbe-a36e-4df9-d107-38a7aeccc58a"
      },
      "source": [
        "\n",
        "%cd /content/gdrive/My Drive/igcar_ps/Muthu FBR\n"
      ],
      "execution_count": 33,
      "outputs": [
        {
          "output_type": "stream",
          "text": [
            "/content/gdrive/My Drive/igcar_ps/Muthu FBR\n"
          ],
          "name": "stdout"
        }
      ]
    },
    {
      "cell_type": "code",
      "metadata": {
        "id": "pZ4HzxkIDp2U",
        "colab_type": "code",
        "colab": {
          "base_uri": "https://localhost:8080/",
          "height": 6041
        },
        "outputId": "d8712f00-ea56-4df1-deae-9c0857518186"
      },
      "source": [
        "!ls"
      ],
      "execution_count": 21,
      "outputs": [
        {
          "output_type": "stream",
          "text": [
            " ACNP63580.PDF\t\t DOCKET5023138.PDF\t MITNE143.PDF\n",
            " ACNP63592.PDF\t\t DOCKET502313.PDF\t MSAR67149.PDF\n",
            " ACONF15P2021.PDF\t DOCKET502314.PDF\t MTI66TR66.PDF\n",
            " ACONF28P284.PDF\t DOCKET502315.PDF\t N6725854.PDF\n",
            " AEEWM1242.PDF\t\t DOCKET5023189.PDF\t N6818197.PDF\n",
            " AEEWM225.PDF\t\t DOCKET502318.PDF\t N6820355.PDF\n",
            " AEEWM975.PDF\t\t DOCKET5023190.PDF\t'NAASR11378(Vol1).PDF'\n",
            " AEEWM997.PDF\t\t DOCKET5023194.PDF\t'NAASR11378(Vol2).PDF'\n",
            " AEEWR491.PDF\t\t DOCKET50231.PDF\t NASATND4615.PDF\n",
            " AEEWR526.PDF\t\t DOE-CL-98004-40.PDF\t NEICRR41.PDF\n",
            " AEEWR844.PDF\t\t DOEtr273Vol4.PDF\t NEICRR48.PDF\n",
            " AEEWR888.PDF\t\t DPReport581.PDF\t NP16853.PDF\n",
            " AEREPRMet7.PDF\t\t DRPMLFARR184.PDF\t NP17599.PDF\n",
            " AERER2949.PDF\t\t'DRPMLFAR R187.PDF'\t NP18487.PDF\n",
            "'AERER5773(Vol1).PDF'\t DRPMLFARR188.PDF\t NP18778.PDF\n",
            "'AERER5773(Vol2).PDF'\t'EANDC(E)46L.PDF'\t NP18782.PDF\n",
            " AERER5773Vol4.PDF\t'EANDC(E)78(U).PDF'\t NP18809.PDF\n",
            " AERER5773Vol5.PDF\t EPRIPubNo74049005.PDF\t NP19086.PDF\n",
            " AERERM167.PDF\t\t EUR3491e.PDF\t\t NSA11009136.PDF\n",
            " AERERM168.PDF\t\t EUR4060.PDF\t\t NSA12011886.PDF\n",
            " AERERM176.PDF\t\t EUR4462.PDF\t\t NSA12015871.PDF\n",
            " AI68Memo127.PDF\t EUR4820DFEV-2ptC.PDF\t NSA17011970.PDF\n",
            " AIAEC12721.PDF\t\t EUR4820DFEV-2ptD.PDF\t NSA17012003.PDF\n",
            "'AIAEC12765(Vol1).PDF'\t EUR4820DFEV-3.PDF\t NSA17012017.PDF\n",
            "'AIAEC12791(Vol1).PDF'\t EUR4820DFEV-3ptF.PDF\t NSA17019642.PDF\n",
            "'AIAEC12791(Vol2).PDF'\t EUR4820DFEV-4.PDF\t NSA17019650.PDF\n",
            " AIAEC13051.PDF\t\t EUR4820DFEV-4ptH.PDF\t NSA17019651.PDF\n",
            " AIAEC13110.PDF\t\t EUR4820DFEV-5.PDF\t NSA17036963.PDF\n",
            " AIAEC13112.PDF\t\t EUR4820DFEV-5ptK.PDF\t NSA18003048.PDF\n",
            " AIAEC13113.PDF\t\t EUR4820DFEV-6.PDF\t NSA18017288.PDF\n",
            " AIAEC13114.PDF\t\t EUR4820DFEV-6ptL.PDF\t NSA18017310.PDF\n",
            " AIAEC13116.PDF\t\t EUR6416.PDF\t\t NSA18019283.PDF\n",
            " AIAEC13146.PDF\t\t EURFNR268.PDF\t\t NSA18030970.PDF\n",
            "'ANL5719(Add).PDF'\t EURFNR287.PDF\t\t NSA18032174.PDF\n",
            " ANL5719.PDF\t\t EURFNR314.PDF\t\t NSA19001852.PDF\n",
            " ANL5724.PDF\t\t EURFNR522.PDF\t\t NSA19005497.PDF\n",
            " ANL5836.PDF\t\t EURFNR608.PDF\t\t NSA19012789.PDF\n",
            " ANL5855.PDF\t\t EURFNR822.PDF\t\t NSA20003491.PDF\n",
            " ANL6092.PDF\t\t EURFNR826.PDF\t\t NSA20034531.PDF\n",
            " ANL6106.PDF\t\t EURFNR834.PDF\t\t NSA21008196.PDF\n",
            " ANL6107.PDF\t\t EURFNR848.PDF\t\t NSA21010153.PDF\n",
            " ANL6124.PDF\t\t EURFNR864.PDF\t\t NSA21035753.PDF\n",
            " ANL6194.PDF\t\t EURFNR884.PDF\t\t NSA21040969.PDF\n",
            " ANL6205.PDF\t\t FastBrReactor.PDF\t NSA22003859.PDF\n",
            " ANL6212.PDF\t\t FEI213.PDF\t\t NSA22006036.PDF\n",
            " ANL6274.PDF\t\t FEI273.PDF\t\t NSA22014209.PDF\n",
            " ANL6276.PDF\t\t GA6667.PDF\t\t NSA22014210.PDF\n",
            " ANL6336.PDF\t\t GA7381.PDF\t\t NSA22035500.PDF\n",
            " ANL6338.PDF\t\t GA8543.PDF\t\t NSA22037461.PDF\n",
            " ANL6382.PDF\t\t GA9027.PDF\t\t NSA22037504.PDF\n",
            " ANL6383.PDF\t\t GA9386.PDF\t\t NSA22039826.PDF\n",
            " ANL6401.PDF\t\t GEAP1002839.PDF\t NSA22042219.PDF\n",
            " ANL6484.PDF\t\t GEAP4090.PDF\t\t NSA22048670.PDF\n",
            " ANL6595.PDF\t\t GEAP4300.PDF\t\t NSA22053287.PDF\n",
            " ANL6608.PDF\t\t GEAP4469.PDF\t\t NSA23019450.PDF\n",
            " ANL6612.PDF\t\t GEAP4471.PDF\t\t NSA23023933.PDF\n",
            " ANL6614.PDF\t\t GEAP4787.PDF\t\t NSA23028436.PDF\n",
            " ANL6632.PDF\t\t GEAP4881.PDF\t\t NSA23040328.PDF\n",
            " ANL6659.PDF\t\t GEAP4939.PDF\t\t NSA23052317.PDF\n",
            " ANL6670.PDF\t\t GEAP5098.PDF\t\t NSA23052433.PDF\n",
            " ANL6702.PDF\t\t GEAP5158.PDF\t\t NSA24001971.PDF\n",
            " ANL6735.PDF\t\t GEAP5198.PDF\t\t NSA24004028.PDF\n",
            " ANL6773.PDF\t\t GEAP5208.PDF\t\t NSA24004030.PDF\n",
            " ANL6788.PDF\t\t GEAP5285.PDF\t\t NSA24016139.PDF\n",
            " ANL6809.PDF\t\t GEAP5292.PDF\t\t NSA24018626.PDF\n",
            " ANL6845.PDF\t\t GEAP5301.PDF\t\t NSA24024857.PDF\n",
            " ANL6863.PDF\t\t GEAP5433.PDF\t\t NSA24024872.PDF\n",
            " ANL6864.PDF\t\t GEAP5442.PDF\t\t NSA24029990.PDF\n",
            " ANL6865.PDF\t\t GEAP5629.PDF\t\t NSA24029995.PDF\n",
            " ANL6874.PDF\t\t GEAP5631.PDF\t\t NSA25010181.PDF\n",
            " ANL6921.PDF\t\t GEAP5635.PDF\t\t NSA25028659.PDF\n",
            " ANL6922.PDF\t\t GRS86.PDF\t\t NSA25051127.PDF\n",
            " ANL6934.PDF\t\t GU5286.PDF\t\t NSA25052360.PDF\n",
            " ANL7001.PDF\t\t HEDLTME7280.PDF\t NSA25054754.PDF\n",
            " ANL7034.PDF\t\t HEDLTME7348.PDF\t NSA25057107.PDF\n",
            " ANL7044.PDF\t\t IA1156.PDF\t\t NSA25060032.PDF\n",
            " ANL7050.PDF\t\t IAE2971.PDF\t\t NSA25060045.PDF\n",
            " ANL7067.PDF\t\t IAE34505.PDF\t\t NSA25060136.PDF\n",
            " ANL7075.PDF\t\t IAEAR742F.PDF\t\t NSA25060189.PDF\n",
            " ANL7082.PDF\t\t IDO17224.PDF\t\t NSA25060190.PDF\n",
            " ANL7090.PDF\t\t IFAFR65.PDF\t\t NSA25060217.PDF\n",
            " ANL7099.PDF\t\t IFAFR68.PDF\t\t NSA26000631.PDF\n",
            " ANL7105.PDF\t\t IN1049.PDF\t\t NSA26002036.PDF\n",
            " ANL7115.PDF\t\t ISBN0852951701.PDF\t NSA26002478.PDF\n",
            " ANL7152.PDF\t\t ISBN1566773431.PDF\t NSA26003761.PDF\n",
            "'ANL7168(Vol2).PDF'\t ISSN07209207.PDF\t NSA26006324.PDF\n",
            " ANL7176.PDF\t\t IWGFR13.PDF\t\t NSA26012746.PDF\n",
            " ANL7183.PDF\t\t JA07222451.PDF\t\t NSA26016869.PDF\n",
            " ANL7202.PDF\t\t JA07229228.PDF\t\t NSA26016901.PDF\n",
            " ANL7212.PDF\t\t JA07231149.PDF\t\t NSA26016904.PDF\n",
            " ANL7230.PDF\t\t JA07237736.PDF\t\t NSA26022185.PDF\n",
            " ANL7259.PDF\t\t JA07252407.PDF\t\t NSA26022396.PDF\n",
            " ANL7269.PDF\t\t JA07252452.PDF\t\t NSA26030175.PDF\n",
            " ANL7290.pdf\t\t JA07252463.PDF\t\t NSA26030184.PDF\n",
            " ANL7334.PDF\t\t JA07252839.PDF\t\t NSA26030207.PDF\n",
            " ANL7369.PDF\t\t JA07256085.PDF\t\t NSA26030208.PDF\n",
            " ANL7379.PDF\t\t JA07256224.PDF\t\t NSA26030222.PDF\n",
            " ANL7417.PDF\t\t JA07261084.PDF\t\t NSA26035662.PDF\n",
            " ANL7422.PDF\t\t JA07263523.PDF\t\t NSA26037814.PDF\n",
            " ANL7433.PDF\t\t JA07265947.PDF\t\t NSA26038484.PDF\n",
            " ANL7450.PDF\t\t JA07265949.PDF\t\t NSA26048457.PDF\n",
            " ANL7474.PDF\t\t JA07265955.PDF\t\t NSA26052336.PDF\n",
            " ANL7476.PDF\t\t JA07265958.PDF\t\t NSA26052337.PDF\n",
            " ANL7529.PDF\t\t JA07265963.PDF\t\t NSA26052413.PDF\n",
            "'ANL7542(Add.A).PDF'\t JA07269168.PDF\t\t NSA26058025.PDF\n",
            " ANL7542.PDF\t\t JA07271236.PDF\t\t NSA26058026.PDF\n",
            " ANL7597.PDF\t\t JA07271243.PDF\t\t NSA26058027.PDF\n",
            " ANL7604.PDF\t\t JA07275843.PDF\t\t NSA26058030.PDF\n",
            " ANL7664.PDF\t\t JA08284188.PDF\t\t NSA27002971.PDF\n",
            " ANL7736.PDF\t\t JA08287544.PDF\t\t NSA27004393.PDF\n",
            " ANL7772.PDF\t\t JA08290788.PDF\t\t NSA27004409.PDF\n",
            " ANL7836.PDF\t\t JA08296896.PDF\t\t NSA27004419.PDF\n",
            " ANL7844.PDF\t\t JA08301851.PDF\t\t NSA27004428.PDF\n",
            " ANL-7968.PDF\t\t JA08311034.PDF\t\t NSA27004449.PDF\n",
            " ANL7981.PDF\t\t JA08322297.PDF\t\t NSA27007931.PDF\n",
            " ANL7993.PDF\t\t JA08322341.PDF\t\t NSA27008973.PDF\n",
            " ANL8005.PDF\t\t JA08324856.PDF\t\t NSA27011268.PDF\n",
            " ANL8030.PDF\t\t JA08325350.PDF\t\t NSA27011270.PDF\n",
            " ANL8037.PDF\t\t JA08330921.PDF\t\t NSA27016493.PDF\n",
            " ANL8042.PDF\t\t JA08331091.PDF\t\t NSA27017848.PDF\n",
            " ANL8047.PDF\t\t JA08333015.PDF\t\t NSA27017872.PDF\n",
            " ANL8062.PDF\t\t JA08333147.PDF\t\t NSA27021575.PDF\n",
            " ANL8068.PDF\t\t JA08335298.PDF\t\t NSA27021590.PDF\n",
            " ANL8074.PDF\t\t JA08338315.PDF\t\t NSA27021880.PDF\n",
            " ANL8086.PDF\t\t JA08342980.PDF\t\t NSA27026644.PDF\n",
            " ANL8091.PDF\t\t JA08343980.PDF\t\t NSA27029141.PDF\n",
            " ANL8112.PDF\t\t JA08347909.PDF\t\t NSA27029451.PDF\n",
            " ANL8133.PDF\t\t JA09352725.PDF\t\t NSA27029544.PDF\n",
            " ANL8136.PDF\t\t JA09353628.PDF\t\t NSA27029792.PDF\n",
            " ANL8140.PDF\t\t JA09358305.PDF\t\t NSA28000614.PDF\n",
            " ANL8719.PDF\t\t JA09362859.PDF\t\t NSA28001581.PDF\n",
            " ANLCT7326.PDF\t\t JA09363516.PDF\t\t NSA28001641.PDF\n",
            " ANLCT73458243.PDF\t JA09365972.PDF\t\t NSA28003462.PDF\n",
            " ANLCT7410.PDF\t\t JA09371060.PDF\t\t NSA28004549.PDF\n",
            " ANLCT7411.PDF\t\t JA09371291.PDF\t\t NSA28004553.PDF\n",
            " ANLCT7412.PDF\t\t JA09392389.PDF\t\t NSA28007350.PDF\n",
            " ANLCT7413.PDF\t\t JA09392390.PDF\t\t NSA28007352.PDF\n",
            " ANLCT7419.PDF\t\t JA09395868.PDF\t\t NSA28007354.PDF\n",
            " ANLCT743.PDF\t\t JA09395874.PDF\t\t NSA28007495.PDF\n",
            " ANLCT74458240006.PDF\t JA09395878.PDF\t\t NSA28011174.PDF\n",
            " ANLCT74458240009.PDF\t JA09395894.PDF\t\t NSA28023497.PDF\n",
            " ANLCT74458242.PDF\t JA09405143.PDF\t\t NSA28023506.PDF\n",
            " ANLCT744.PDF\t\t JA09414957.PDF\t\t NSA28029207.PDF\n",
            " ANLCT749.PDF\t\t JA09414967.PDF\t\t NSA28031828.PDF\n",
            " ANLCT7504.PDF\t\t JA10421468.PDF\t\t NSA28031895.PDF\n",
            " ANLCT7506.PDF\t\t JA10427175.PDF\t\t NSA29000951.PDF\n",
            " ANLCT7511.PDF\t\t JA10433756.PDF\t\t NSA29006915.PDF\n",
            " ANLCT7515.PDF\t\t JA10433770.PDF\t\t NSA29011892.PDF\n",
            " ANLCT7519.PDF\t\t JA10433771.PDF\t\t NSA29012191.PDF\n",
            " ANLCT7524.PDF\t\t JA10433995.PDF\t\t NSA29014653.PDF\n",
            " ANLCT7531.PDF\t\t JA10438076.PDF\t\t NSA29014657.PDF\n",
            " ANLCT7532.PDF\t\t JA10442189.PDF\t\t NSA29014658.PDF\n",
            " ANLCT7535.PDF\t\t JA10449622.PDF\t\t NSA29020082.PDF\n",
            " ANLCT7539.PDF\t\t JA10456186.PDF\t\t NSA29020099.PDF\n",
            " ANLCT7541.PDF\t\t JA10456326.PDF\t\t NSA29020116.PDF\n",
            " ANLCT7544.PDF\t\t JA10459360.PDF\t\t NSA29026113.PDF\n",
            " ANLCT75458240001.PDF\t JA10460748.PDF\t\t NSA29026114.PDF\n",
            " ANLCT7545.PDF\t\t JA10461207.PDF\t\t NSA30001943.PDF\n",
            " ANLCT7547.PDF\t\t JA10461491.PDF\t\t NSA30001944.PDF\n",
            " ANLCT7618.PDF\t\t JA10461745.PDF\t\t NSA30001965.PDF\n",
            " ANLCT767.PDF\t\t JA10461746.PDF\t\t NSA30001972.PDF\n",
            " ANLCT768.PDF\t\t JA10461747.PDF\t\t NSA30005446.PDF\n",
            " ANLRDP10.PDF\t\t JA10461748.PDF\t\t NSA30005448.PDF\n",
            " ANLRDP11.PDF\t\t JA10461749.PDF\t\t NSA30005449.PDF\n",
            " ANLRDP17.PDF\t\t JA10461751.PDF\t\t NSA30005454.PDF\n",
            " ANLRDP21.PDF\t\t JA10461752.PDF\t\t NSA30005458.PDF\n",
            " ANLRDP27.PDF\t\t JA10461753.PDF\t\t NSA30008710.PDF\n",
            " ANLTrans1039.PDF\t JA10461755.PDF\t\t NSA30008711.PDF\n",
            " ANLTrans1047.PDF\t JA10461757.PDF\t\t NSA30014567.PDF\n",
            " ANLTrans1053.PDF\t JA10461758.PDF\t\t NSA30014823.PDF\n",
            " ANLTrans1056.PDF\t JA10461762.PDF\t\t NSA30017721.PDF\n",
            " ANLTrans625.PDF\t JA10461763.PDF\t\t NSA30017739.PDF\n",
            " ANLTrans744.PDF\t JA10461766.PDF\t\t NSA30020381.PDF\n",
            " ANLTrans964.PDF\t JA10461769.PDF\t\t NSA30020382.PDF\n",
            " ANLTrans992.PDF\t JA10461770.PDF\t\t NSA30020383.PDF\n",
            "'APAE112(VolII).PDF'\t JA10461771.PDF\t\t NSA30020411.PDF\n",
            "'APAE112(VolIV).PDF'\t JA10461773.PDF\t\t NSA30023144.PDF\n",
            " APDA107.PDF\t\t JA10461777.PDF\t\t NSA30025995.PDF\n",
            " APDA108.PDF\t\t JA10461783.PDF\t\t NSA30028703.PDF\n",
            " APDA115.PDF\t\t JA10473963.PDF\t\t NSA30028706.PDF\n",
            " APDA151.PDF\t\t JA10477296.PDF\t\t NSA30029950.PDF\n",
            " APDA153.PDF\t\t JA10480149.PDF\t\t NSA30033068.PDF\n",
            " APDA158.PDF\t\t JA10480687.PDF\t\t NSA30034246.PDF\n",
            " APDA174.PDF\t\t JA10480690.PDF\t\t NSA30034248.PDF\n",
            " APDA186.PDF\t\t JA10484979.PDF\t\t NSA30034251.PDF\n",
            " APDA194.PDF\t\t JA10488126.PDF\t\t NSA31002588.PDF\n",
            " APDA201.PDF\t\t JA10491893.PDF\t\t NSA31005228.PDF\n",
            " APDA255.PDF\t\t JA10491971.PDF\t\t NSA31007650.PDF\n",
            " APEX492.PDF\t\t JA10491984.PDF\t\t NSA31013250.PDF\n",
            " APEX603Del.PDF\t\t JA10491989.PDF\t\t NSA31013261.PDF\n",
            " AREAEE174.PDF\t\t JA10491993.PDF\t\t NSA31013357.PDF\n",
            " ATLA102.PDF\t\t JA11500299.PDF\t\t NSA31021432.PDF\n",
            " AWREO7463.PDF\t\t JA11505838.PDF\t\t NSA31024675.PDF\n",
            " BAW128049Vol1-2.PDF\t JA11511387.PDF\t\t NSA31024681.PDF\n",
            " BAW128049Vol1.PDF\t JA11523013.PDF\t\t NSA31024689.PDF\n",
            " BAW39681.PDF\t\t JA11532074.PDF\t\t NSA31024993.PDF\n",
            " BLG485.PDF\t\t JA11532088.PDF\t\t NSA31028021.PDF\n",
            " BLG505.PDF\t\t JA11541812.PDF\t\t NSA31028025.PDF\n",
            " BMBWFBK7020.PDF\t JA11552897.PDF\t\t NSA31028039.PDF\n",
            " BMBWFBK7117.PDF\t JA11562679.PDF\t\t NSA31028042.PDF\n",
            " BMFTFBK85002.PDF\t JA11562680.PDF\t\t NSA31028043.PDF\n",
            " BMI1513.PDF\t\t JA12584297.PDF\t\t NSA31031846.PDF\n",
            " BMI1799.PDF\t\t JA12608431.PDF\t\t NSA31032294.PDF\n",
            " BMI1845C.PDF\t\t JA12610928.PDF\t\t NSA31032296.PDF\n",
            " BMI1845SectA.PDF\t JA12642349.PDF\t\t NSA32005401.PDF\n",
            " BMI1845SectB.PDF\t JA13665802.PDF\t\t NSA32008080.PDF\n",
            " BMI1857.PDF\t\t JA13684664.PDF\t\t NSA32008081.PDF\n",
            " BMI1862.PDF\t\t JA13687413.PDF\t\t NSA32008082.PDF\n",
            " BMI1868.PDF\t\t JA13687414.PDF\t\t NSA32008083.PDF\n",
            " BMI1872.PDF\t\t JA13689844.PDF\t\t NSA32008084.PDF\n",
            " BMI1878.PDF\t\t JA13689845.PDF\t\t NSA32008085.PDF\n",
            " BMI1882.PDF\t\t JA13703570.PDF\t\t NSA32008086.PDF\n",
            " BMI1886.PDF\t\t JA13706222.PDF\t\t NSA32008378.PDF\n",
            " BMI1985095.PDF\t\t JA13708921.PDF\t\t NSA32008522.PDF\n",
            " BMIX10129.PDF\t\t JA13715039.PDF\t\t NSA32010793.PDF\n",
            " BMIX10170.PDF\t\t JA13715045.PDF\t\t NSA32010794.PDF\n",
            " BMIX247.PDF\t\t JA14720588.PDF\t\t NSA32013189.PDF\n",
            " BMIX455Pt1.PDF\t\t JA14725092.PDF\t\t NSA32013578.PDF\n",
            " BMIX663.PDF\t\t JA14761474.PDF\t\t NSA32018855.PDF\n",
            " BNL2390.PDF\t\t JA14775940.PDF\t\t NSA32018859.PDF\n",
            " BNL40666.PDF\t\t JA14787259.PDF\t\t NSA32019150.PDF\n",
            " BNL50027.PDF\t\t JA14787881.PDF\t\t NSA32019163.PDF\n",
            " BNL50044.PDF\t\t JA14788394.PDF\t\t NSA32021750.PDF\n",
            " BNL887.PDF\t\t JA14793324.PDF\t\t NSA32023609.PDF\n",
            " BNL9003.PDF\t\t JA14799770.PDF\t\t NSA32023647.PDF\n",
            " BNL9007.PDF\t\t JA14799961.PDF\t\t NSA32023965.PDF\n",
            " BNL9279.PDF\t\t JA15006924.PDF\t\t NSA32027287.PDF\n",
            " BNL998.PDF\t\t JA15053600.PDF\t\t NSA32030232.PDF\n",
            " BNW13492.PDF\t\t JA15053603.PDF\t\t NSA32030402.PDF\n",
            " BNWL1044.PDF\t\t JA15053604.PDF\t\t NSA33002335.PDF\n",
            " BNWL1058.PDF\t\t JA15053605.PDF\t\t NSA33002463.PDF\n",
            " BNWL1064.PDF\t\t JA15053606.PDF\t\t NSA33004698.PDF\n",
            " BNWL1103.PDF\t\t JA15053607.PDF\t\t NSA33004702.PDF\n",
            " BNWL1166.PDF\t\t JA15053608.PDF\t\t NSA33004876.PDF\n",
            " BNWL1223.PDF\t\t JA15053610.PDF\t\t NSA33006838.PDF\n",
            " BNWL1279.PDF\t\t JA15053611.PDF\t\t NSA33008731.PDF\n",
            " BNWL1319.PDF\t\t JA15053612.PDF\t\t NSA33011395.PDF\n",
            " BNWL13491.PDF\t\t JA15053982.PDF\t\t NSA33014138.PDF\n",
            " BNWL1365.PDF\t\t JA15068061.PDF\t\t NSA33015378.PDF\n",
            " BNWL1387.PDF\t\t JA16011083.PDF\t\t NSA33016349.PDF\n",
            " BNWL234.PDF\t\t JA16014860.PDF\t\t NSA33016352.PDF\n",
            " BNWL254.PDF\t\t JA16064916.PDF\t\t NSA33019499.PDF\n",
            " BNWL388.PDF\t\t JA16072214.PDF\t\t NSA33019577.PDF\n",
            " BNWL442.PDF\t\t JA16081464.PDF\t\t NSA33019612.PDF\n",
            " BNWL450.PDF\t\t JA17003604.PDF\t\t NSA33028055.PDF\n",
            " BNWL451.PDF\t\t JA17023043.PDF\t\t NSA33032221.PDF\n",
            " BNWL511.PDF\t\t JA17028507.PDF\t\t NSA33032283.PDF\n",
            " BNWL513.PDF\t\t JA17028509.PDF\t\t NSA33032295.PDF\n",
            " BNWL514.PDF\t\t JA17062893.PDF\t\t NSA33032297.PDF\n",
            " BNWL54.PDF\t\t JA17089622.PDF\t\t NSA33032314.PDF\n",
            " BNWL562.PDF\t\t JA18019723.PDF\t\t NUMEC352422.PDF\n",
            " BNWL640.PDF\t\t JA18029051.PDF\t\t NUMEC352427.PDF\n",
            " BNWL650.PDF\t\t JA18037733.PDF\t\t NUREGCP0058Vol3.PDF\n",
            " BNWL661.PDF\t\t JA18052733.PDF\t\t NUREGCR6597.PDF\n",
            " BNWL667.PDF\t\t JA18086239.PDF\t\t NYO35301.PDF\n",
            " BNWL713.PDF\t\t JA19028864.PDF\t\t NYO35302.PDF\n",
            " BNWL717.PDF\t\t JA19073223.PDF\t\t NYO39063.PDF\n",
            " BNWL729.PDF\t\t JA19078813.PDF\t\t ORNL3670.PDF\n",
            " BNWL779.PDF\t\t JA20003891.PDF\t\t ORNL4440.PDF\n",
            " BNWL813.PDF\t\t JA20042451.PDF\t\t ORNLTM1610.PDF\n",
            " BNWL818.PDF\t\t JA20064229.PDF\t\t ORNLTM1666.PDF\n",
            " BNWL819.PDF\t\t JA21007974.PDF\t\t ORNLTM1730.PDF\n",
            " BNWL826.PDF\t\t JA21026641.PDF\t\t ORNLTM1851.PDF\n",
            " BNWL849.PDF\t\t JA21036898.PDF\t\t ORNLTM1852.PDF\n",
            " BNWL84.PDF\t\t JA22035010.PDF\t\t ORNLTM1853.PDF\n",
            " BNWL883.PDF\t\t JA22035011.PDF\t\t ORNLTM1854.PDF\n",
            " BNWL940.PDF\t\t JA22035012.PDF\t\t ORNLTM1855.PDF\n",
            " BNWL944.PDF\t\t JA22035013.PDF\t\t ORNLTM1856.PDF\n",
            " BNWL946.PDF\t\t JA22052115.PDF\t\t ORNLTM1857.PDF\n",
            " BNWL948.PDF\t\t JA22060941.PDF\t\t ORNLTM1858.PDF\n",
            " BNWL970.PDF\t\t JA22069696.PDF\t\t ORNLTM1859.PDF\n",
            " BNWLB348.PDF\t\t JA24011780.PDF\t\t ORNLTM1993.PDF\n",
            " BNWLCC1012.PDF\t\t JA24027325.PDF\t\t ORNLTM3772.PDF\n",
            " BNWLCC1182.PDF\t\t JA24047815.PDF\t\t ORNLTM4343.PDF\n",
            " BNWLCC2369.PDF\t\t JA28043357.PDF\t\t ORO43131Rev.PDF\n",
            " BNWLCC319.PDF\t\t JA28055385.PDF\t\t PAN438II.PDF\n",
            " BNWLCC511.PDF\t\t JA28062018.PDF\t\t RCN130.PDF\n",
            " BNWLCC868.PDF\t\t JA28062019.PDF\t\t RCN132.PDF\n",
            " BNWLCC886.PDF\t\t JA28076216.PDF\t\t RCN143.PDF\n",
            " BNWLSA1323.PDF\t\t JA29002378.PDF\t\t RCN154.PDF\n",
            " BNWLSA1332.PDF\t\t JA29051763.PDF\t\t RDBN1304.PDF\n",
            " BNWLSA1388.PDF\t\t JA30016339.PDF\t\t RDBN1854.PDF\n",
            " BNWLSA1434.PDF\t\t JA30040669.PDF\t\t RPI328133.PDF\n",
            " BNWLSA1488.PDF\t\t JA30055492.PDF\t\t'RTFI(63)20.PDF'\n",
            " BNWLSA1857.PDF\t\t JA30059547.PDF\t\t'RTFI(67)11.PDF'\n",
            " BNWLSA2002.PDF\t\t JAERI1118.PDF\t\t'RTFIMA(66)3.PDF'\n",
            " BNWLSA251.PDF\t\t JAERI1182.PDF\t\t RTING703.PDF\n",
            " BNWLSA2691.PDF\t\t JAERIM4472.PDF\t\t SAND20022019.PDF\n",
            " BNWLSA2818.PDF\t\t JAERImemo3537.PDF\t SAND870094C.PDF\n",
            " BNWLSA2954.PDF\t\t JAERImemo3578.PDF\t SRARIP96.PDF\n",
            " BNWLSA972.PDF\t\t JAERImemo3611.PDF\t STIPUB195.PDF\n",
            " CEABib195.PDF\t\t JAERImemo3661.PDF\t STIPUB69VolI.PDF\n",
            " CEACONF1355.PDF\t JAERIMemo4097.PDF\t TID24680.PDF\n",
            " CEAR2450.PDF\t\t JAERIMemo4165.PDF\t TID25528.PDF\n",
            " CEAR3799.PDF\t\t JAPFNR64.PDF\t\t TID26147.PDF\n",
            " CEAR3989.PDF\t\t JINRP1440.PDF\t\t TID6506Pt34thEd.PDF\n",
            " CEAR4075.PDF\t\t JNBIST203P3345.PDF\t TRGReport857.PDF\n",
            " CEAtrX552.PDF\t\t JR15036655.PDF\t\t UARAEE71.PDF\n",
            " CEND200VolII.PDF\t JR16075661.PDF\t\t UCRL13905.PDF\n",
            " CEND200VolI.PDF\t JR16086100.PDF\t\t UCRLID108242.PDF\n",
            " CEND308.PDF\t\t JR26047647.PDF\t\t UNC5054.PDF\n",
            " CF568207Del.PDF\t JR28041103.PDF\t\t UNC5137.PDF\n",
            " CONF660511.PDF\t\t JR28061963.PDF\t\t UNC5162.PDF\n",
            " CONF6606691.PDF\t JR30007264.PDF\t\t UNC5166.PDF\n",
            " CONF670107.PDF\t\t JR30008934.PDF\t\t UNC5174.PDF\n",
            " CONF6710057.PDF\t JUL382RG.PDF\t\t UNC5182.PDF\n",
            " CONF680818.PDF\t\t JUL654RG.PDF\t\t UNC5198.PDF\n",
            " CONF71031519.PDF\t KAERIRR189598.PDF\t UNC5201.PDF\n",
            " CONF72110916.PDF\t KFK1020.PDF\t\t UNC5213.PDF\n",
            " CONF76110728.PDF\t KFK1350.PDF\t\t UNC5217.PDF\n",
            " CONF791204.PDF\t\t KFK1379.PDF\t\t UNC5219.PDF\n",
            " CONF820601.PDF\t\t KFK2082.PDF\t\t UNC5221.PDF\n",
            " CONF831205-.PDF\t KFK465.PDF\t\t WARD3045T2C5.PDF\n",
            " CONF950740.PDF\t\t KFK480.PDF\t\t WARD3045T4B6.PDF\n",
            " COO22451.PDF\t\t KFK482.PDF\t\t WARD379119.PDF\n",
            " CRBRPPMC-7504.PDF\t KFK5392.PDF\t\t WARDHT30452.PDF\n",
            " DOCKET5001611.PDF\t KFK611.PDF\t\t WARDNA30453.PDF\n",
            " DOCKET50231125.PDF\t KFK657.PDF\t\t WASH1096.PDF\n",
            " DOCKET50231128.PDF\t KFK722.PDF\t\t WASH1102.PDF\n",
            " DOCKET5023114.PDF\t KFK781I.PDF\t\t WASH1106.PDF\n",
            " DOCKET5023120.PDF\t KFK851.PDF\t\t WASH1109.PDF\n",
            " DOCKET5023128.PDF\t KFKEXT8707.PDF\t\t WASH1110.PDF\n",
            " DOCKET5023129.PDF\t LA13638.PDF\t\t WASH1126.PDF\n",
            " DOCKET502312.PDF\t LA3683.PDF\t\t WCAP35892.PDF\n",
            " DOCKET5023130.PDF\t LA3724.PDF\t\t WHCSA1644.PDF\n",
            " DOCKET5023131.PDF\t LA4622.PDF\t\t'XNCV2(1986)P1317.PDF'\n",
            " DOCKET5023135.PDF\t LADC8398.PDF\n",
            " DOCKET5023137.PDF\t MIT33470.PDF\n"
          ],
          "name": "stdout"
        }
      ]
    },
    {
      "cell_type": "code",
      "metadata": {
        "id": "gAJZhgsZLLIl",
        "colab_type": "code",
        "colab": {
          "base_uri": "https://localhost:8080/",
          "height": 1168
        },
        "outputId": "51075951-e00d-43e8-85a7-bcb11eed8290"
      },
      "source": [
        "!python scraper.py"
      ],
      "execution_count": 0,
      "outputs": [
        {
          "output_type": "stream",
          "text": [
            "************************start*********************************\n",
            "1\n",
            "************************start*********************************\n",
            "PdfReadWarning: Xref table not zero-indexed. ID numbers for objects will be corrected. [pdf.py:1736]\n",
            "Dealing with 8 pages!!\n",
            "partial success\n",
            "\n",
            "*************************end******************************\n",
            "************************start*********************************\n",
            "PdfReadWarning: Xref table not zero-indexed. ID numbers for objects will be corrected. [pdf.py:1736]\n",
            "Dealing with 14 pages!!\n",
            "partial success\n",
            "\n",
            "*************************end******************************\n",
            "************************start*********************************\n",
            "PdfReadWarning: Xref table not zero-indexed. ID numbers for objects will be corrected. [pdf.py:1736]\n",
            "Dealing with 13 pages!!\n",
            "partial success\n",
            "\n",
            "*************************end******************************\n",
            "************************start*********************************\n",
            "PdfReadWarning: Xref table not zero-indexed. ID numbers for objects will be corrected. [pdf.py:1736]\n",
            "Dealing with 9 pages!!\n",
            "partial success\n",
            "\n",
            "*************************end******************************\n",
            "************************start*********************************\n",
            "PdfReadWarning: Xref table not zero-indexed. ID numbers for objects will be corrected. [pdf.py:1736]\n",
            "Dealing with 11 pages!!\n",
            "partial success\n",
            "\n",
            "*************************end******************************\n",
            "************************start*********************************\n",
            "PdfReadWarning: Xref table not zero-indexed. ID numbers for objects will be corrected. [pdf.py:1736]\n",
            "Dealing with 19 pages!!\n",
            "partial success\n",
            "\n",
            "*************************end******************************\n",
            "************************start*********************************\n",
            "PdfReadWarning: Xref table not zero-indexed. ID numbers for objects will be corrected. [pdf.py:1736]\n",
            "Dealing with 8 pages!!\n",
            "partial success\n",
            "\n",
            "*************************end******************************\n",
            "************************start*********************************\n",
            "PdfReadWarning: Xref table not zero-indexed. ID numbers for objects will be corrected. [pdf.py:1736]\n",
            "Dealing with 13 pages!!\n",
            "partial success\n",
            "\n",
            "*************************end******************************\n",
            "************************start*********************************\n",
            "Dealing with 46 pages!!\n",
            "partial success\n",
            "\n",
            "*************************end******************************\n",
            "************************start*********************************\n",
            "PdfReadWarning: Xref table not zero-indexed. ID numbers for objects will be corrected. [pdf.py:1736]\n",
            "Dealing with 16 pages!!\n",
            "partial success\n",
            "\n"
          ],
          "name": "stdout"
        }
      ]
    },
    {
      "cell_type": "code",
      "metadata": {
        "id": "MfquBix4DtAo",
        "colab_type": "code",
        "colab": {
          "base_uri": "https://localhost:8080/",
          "height": 441
        },
        "outputId": "1494821c-e18a-45b2-e38a-1ee2f958580d"
      },
      "source": [
        "!pip install pytesseract\n",
        "!pip install tesseract-ocr\n",
        "!pip install pdf2image\n",
        "!pip install PyPDF2\n",
        "!sudo apt-get install poppler\n",
        "!sudo apt install poppler-utils\n",
        "!sudo apt install tesseract-ocr"
      ],
      "execution_count": 6,
      "outputs": [
        {
          "output_type": "stream",
          "text": [
            "Collecting pytesseract\n",
            "\u001b[?25l  Downloading https://files.pythonhosted.org/packages/1d/40/3f72d13d0f347bf688ff189b6d6bb369125c0bed9ed4b15e7f20c65123a8/pytesseract-0.2.7.tar.gz (169kB)\n",
            "\u001b[K     |████████████████████████████████| 174kB 3.5MB/s \n",
            "\u001b[?25hRequirement already satisfied: Pillow in /usr/local/lib/python3.6/dist-packages (from pytesseract) (4.3.0)\n",
            "Requirement already satisfied: olefile in /usr/local/lib/python3.6/dist-packages (from Pillow->pytesseract) (0.46)\n",
            "Building wheels for collected packages: pytesseract\n",
            "  Building wheel for pytesseract (setup.py) ... \u001b[?25l\u001b[?25hdone\n",
            "  Stored in directory: /root/.cache/pip/wheels/cd/4a/30/998e01b892300ba0ccce7b806b6e889794605a384dac81a49a\n",
            "Successfully built pytesseract\n",
            "Installing collected packages: pytesseract\n",
            "Successfully installed pytesseract-0.2.7\n",
            "Collecting tesseract-ocr\n",
            "  Downloading https://files.pythonhosted.org/packages/e2/0d/dcee3dd0fc4c7bcd18125a98f8ba6d9db7aecaa40770595203e312649587/tesseract-ocr-0.0.1.tar.gz\n",
            "Requirement already satisfied: cython in /usr/local/lib/python3.6/dist-packages (from tesseract-ocr) (0.29.10)\n",
            "Building wheels for collected packages: tesseract-ocr\n",
            "  Building wheel for tesseract-ocr (setup.py) ... \u001b[?25lerror\n",
            "\u001b[31m  ERROR: Failed building wheel for tesseract-ocr\u001b[0m\n",
            "\u001b[?25h  Running setup.py clean for tesseract-ocr\n",
            "Failed to build tesseract-ocr\n",
            "Installing collected packages: tesseract-ocr\n",
            "  Running setup.py install for tesseract-ocr ... \u001b[?25l\u001b[?25herror\n",
            "\u001b[31mERROR: Command \"/usr/bin/python3 -u -c 'import setuptools, tokenize;__file__='\"'\"'/tmp/pip-install-l0b2etn3/tesseract-ocr/setup.py'\"'\"';f=getattr(tokenize, '\"'\"'open'\"'\"', open)(__file__);code=f.read().replace('\"'\"'\\r\\n'\"'\"', '\"'\"'\\n'\"'\"');f.close();exec(compile(code, __file__, '\"'\"'exec'\"'\"'))' install --record /tmp/pip-record-psry9p4a/install-record.txt --single-version-externally-managed --compile\" failed with error code 1 in /tmp/pip-install-l0b2etn3/tesseract-ocr/\u001b[0m\n"
          ],
          "name": "stdout"
        }
      ]
    },
    {
      "cell_type": "code",
      "metadata": {
        "id": "v6AgHKRgFo3y",
        "colab_type": "code",
        "colab": {
          "base_uri": "https://localhost:8080/",
          "height": 294
        },
        "outputId": "9263cc7b-b807-44a7-c5ef-680439515b49"
      },
      "source": [
        "!python scraper.py"
      ],
      "execution_count": 12,
      "outputs": [
        {
          "output_type": "stream",
          "text": [
            "************************start*********************************\n",
            "PdfReadWarning: Xref table not zero-indexed. ID numbers for objects will be corrected. [pdf.py:1736]\n",
            "Dealing with 8 pages!!\n",
            "partial success\n",
            "\n",
            "page 1 started\n",
            "page 2 started\n",
            "page 3 started\n",
            "page 4 started\n",
            "page 5 started\n",
            "page 6 started\n",
            "page 7 started\n",
            "page 8 started\n",
            "*************************end******************************\n"
          ],
          "name": "stdout"
        }
      ]
    },
    {
      "cell_type": "code",
      "metadata": {
        "id": "mszGKTodHe--",
        "colab_type": "code",
        "colab": {}
      },
      "source": [
        ""
      ],
      "execution_count": 0,
      "outputs": []
    },
    {
      "cell_type": "code",
      "metadata": {
        "id": "Nw5SIIirIzfu",
        "colab_type": "code",
        "colab": {}
      },
      "source": [
        ""
      ],
      "execution_count": 0,
      "outputs": []
    },
    {
      "cell_type": "code",
      "metadata": {
        "id": "ykNSG2hRHK-0",
        "colab_type": "code",
        "colab": {
          "base_uri": "https://localhost:8080/",
          "height": 221
        },
        "outputId": "e869e1d7-9e9c-448f-e9da-f549339ae800"
      },
      "source": [
        "!pip install pdf2image\n",
        "!pip install PyPDF2\n",
        "!sudo apt-get install poppler\n",
        "!sudo apt install poppler-utils\n",
        "!sudo apt install tesseract-ocr"
      ],
      "execution_count": 7,
      "outputs": [
        {
          "output_type": "stream",
          "text": [
            "Collecting pdf2image\n",
            "  Downloading https://files.pythonhosted.org/packages/70/76/fdba5a266a6ce33000b8b2c107c0dec773fd68743e643531b278fa65b943/pdf2image-1.5.4.tar.gz\n",
            "Requirement already satisfied: pillow in /usr/local/lib/python3.6/dist-packages (from pdf2image) (4.3.0)\n",
            "Requirement already satisfied: olefile in /usr/local/lib/python3.6/dist-packages (from pillow->pdf2image) (0.46)\n",
            "Building wheels for collected packages: pdf2image\n",
            "  Building wheel for pdf2image (setup.py) ... \u001b[?25l\u001b[?25hdone\n",
            "  Stored in directory: /root/.cache/pip/wheels/17/66/fa/943596ab784ee79f804b7ecb79dbe97aee8f7665dbbf9f9d94\n",
            "Successfully built pdf2image\n",
            "Installing collected packages: pdf2image\n",
            "Successfully installed pdf2image-1.5.4\n"
          ],
          "name": "stdout"
        }
      ]
    },
    {
      "cell_type": "code",
      "metadata": {
        "id": "zNqkTiOCHPYy",
        "colab_type": "code",
        "colab": {
          "base_uri": "https://localhost:8080/",
          "height": 202
        },
        "outputId": "beb41c86-feca-41aa-a8f0-92ae1a58aace"
      },
      "source": [
        "!pip install PyPDF2\n",
        "!sudo apt-get install poppler\n",
        "!sudo apt install poppler-utils\n",
        "!sudo apt install tesseract-ocr"
      ],
      "execution_count": 8,
      "outputs": [
        {
          "output_type": "stream",
          "text": [
            "Collecting PyPDF2\n",
            "\u001b[?25l  Downloading https://files.pythonhosted.org/packages/b4/01/68fcc0d43daf4c6bdbc6b33cc3f77bda531c86b174cac56ef0ffdb96faab/PyPDF2-1.26.0.tar.gz (77kB)\n",
            "\r\u001b[K     |████▎                           | 10kB 13.4MB/s eta 0:00:01\r\u001b[K     |████████▌                       | 20kB 2.3MB/s eta 0:00:01\r\u001b[K     |████████████▊                   | 30kB 3.2MB/s eta 0:00:01\r\u001b[K     |█████████████████               | 40kB 2.1MB/s eta 0:00:01\r\u001b[K     |█████████████████████▏          | 51kB 2.6MB/s eta 0:00:01\r\u001b[K     |█████████████████████████▍      | 61kB 3.1MB/s eta 0:00:01\r\u001b[K     |█████████████████████████████▋  | 71kB 3.6MB/s eta 0:00:01\r\u001b[K     |████████████████████████████████| 81kB 3.8MB/s \n",
            "\u001b[?25hBuilding wheels for collected packages: PyPDF2\n",
            "  Building wheel for PyPDF2 (setup.py) ... \u001b[?25l\u001b[?25hdone\n",
            "  Stored in directory: /root/.cache/pip/wheels/53/84/19/35bc977c8bf5f0c23a8a011aa958acd4da4bbd7a229315c1b7\n",
            "Successfully built PyPDF2\n",
            "Installing collected packages: PyPDF2\n",
            "Successfully installed PyPDF2-1.26.0\n"
          ],
          "name": "stdout"
        }
      ]
    },
    {
      "cell_type": "code",
      "metadata": {
        "id": "pwwQPM7rHWUt",
        "colab_type": "code",
        "colab": {
          "base_uri": "https://localhost:8080/",
          "height": 90
        },
        "outputId": "9811d46f-b293-47cd-db40-c2ddbae5c888"
      },
      "source": [
        "!sudo apt-get install poppler\n",
        "!sudo apt install poppler-utils\n",
        "!sudo apt install tesseract-ocr"
      ],
      "execution_count": 9,
      "outputs": [
        {
          "output_type": "stream",
          "text": [
            "Reading package lists... Done\n",
            "Building dependency tree       \n",
            "Reading state information... Done\n",
            "E: Unable to locate package poppler\n"
          ],
          "name": "stdout"
        }
      ]
    },
    {
      "cell_type": "code",
      "metadata": {
        "id": "bicy462RHicc",
        "colab_type": "code",
        "colab": {
          "base_uri": "https://localhost:8080/",
          "height": 515
        },
        "outputId": "b8ffad9b-3e4d-4ed6-8e45-24bd648e5f35"
      },
      "source": [
        "!sudo apt install poppler-utils\n",
        "!sudo apt install tesseract-ocr"
      ],
      "execution_count": 10,
      "outputs": [
        {
          "output_type": "stream",
          "text": [
            "Reading package lists... Done\n",
            "Building dependency tree       \n",
            "Reading state information... Done\n",
            "The following package was automatically installed and is no longer required:\n",
            "  libnvidia-common-410\n",
            "Use 'sudo apt autoremove' to remove it.\n",
            "The following NEW packages will be installed:\n",
            "  poppler-utils\n",
            "0 upgraded, 1 newly installed, 0 to remove and 8 not upgraded.\n",
            "Need to get 154 kB of archives.\n",
            "After this operation, 608 kB of additional disk space will be used.\n",
            "Get:1 http://archive.ubuntu.com/ubuntu bionic-updates/main amd64 poppler-utils amd64 0.62.0-2ubuntu2.8 [154 kB]\n",
            "Fetched 154 kB in 1s (257 kB/s)\n",
            "debconf: unable to initialize frontend: Dialog\n",
            "debconf: (No usable dialog-like program is installed, so the dialog based frontend cannot be used. at /usr/share/perl5/Debconf/FrontEnd/Dialog.pm line 76, <> line 1.)\n",
            "debconf: falling back to frontend: Readline\n",
            "debconf: unable to initialize frontend: Readline\n",
            "debconf: (This frontend requires a controlling tty.)\n",
            "debconf: falling back to frontend: Teletype\n",
            "dpkg-preconfigure: unable to re-open stdin: \n",
            "Selecting previously unselected package poppler-utils.\n",
            "(Reading database ... 130912 files and directories currently installed.)\n",
            "Preparing to unpack .../poppler-utils_0.62.0-2ubuntu2.8_amd64.deb ...\n",
            "Unpacking poppler-utils (0.62.0-2ubuntu2.8) ...\n",
            "Setting up poppler-utils (0.62.0-2ubuntu2.8) ...\n",
            "Processing triggers for man-db (2.8.3-2ubuntu0.1) ...\n"
          ],
          "name": "stdout"
        }
      ]
    },
    {
      "cell_type": "code",
      "metadata": {
        "id": "54k8c8HNH2lP",
        "colab_type": "code",
        "colab": {
          "base_uri": "https://localhost:8080/",
          "height": 735
        },
        "outputId": "0f6a2908-7097-46ff-8a69-c7289278e8cf"
      },
      "source": [
        "!sudo apt install tesseract-ocr"
      ],
      "execution_count": 11,
      "outputs": [
        {
          "output_type": "stream",
          "text": [
            "Reading package lists... Done\n",
            "Building dependency tree       \n",
            "Reading state information... Done\n",
            "The following package was automatically installed and is no longer required:\n",
            "  libnvidia-common-410\n",
            "Use 'sudo apt autoremove' to remove it.\n",
            "The following additional packages will be installed:\n",
            "  tesseract-ocr-eng tesseract-ocr-osd\n",
            "The following NEW packages will be installed:\n",
            "  tesseract-ocr tesseract-ocr-eng tesseract-ocr-osd\n",
            "0 upgraded, 3 newly installed, 0 to remove and 8 not upgraded.\n",
            "Need to get 4,795 kB of archives.\n",
            "After this operation, 15.8 MB of additional disk space will be used.\n",
            "Get:1 http://archive.ubuntu.com/ubuntu bionic/universe amd64 tesseract-ocr-eng all 4.00~git24-0e00fe6-1.2 [1,588 kB]\n",
            "Get:2 http://archive.ubuntu.com/ubuntu bionic/universe amd64 tesseract-ocr-osd all 4.00~git24-0e00fe6-1.2 [2,989 kB]\n",
            "Get:3 http://archive.ubuntu.com/ubuntu bionic/universe amd64 tesseract-ocr amd64 4.00~git2288-10f4998a-2 [218 kB]\n",
            "Fetched 4,795 kB in 1s (3,835 kB/s)\n",
            "debconf: unable to initialize frontend: Dialog\n",
            "debconf: (No usable dialog-like program is installed, so the dialog based frontend cannot be used. at /usr/share/perl5/Debconf/FrontEnd/Dialog.pm line 76, <> line 3.)\n",
            "debconf: falling back to frontend: Readline\n",
            "debconf: unable to initialize frontend: Readline\n",
            "debconf: (This frontend requires a controlling tty.)\n",
            "debconf: falling back to frontend: Teletype\n",
            "dpkg-preconfigure: unable to re-open stdin: \n",
            "Selecting previously unselected package tesseract-ocr-eng.\n",
            "(Reading database ... 130940 files and directories currently installed.)\n",
            "Preparing to unpack .../tesseract-ocr-eng_4.00~git24-0e00fe6-1.2_all.deb ...\n",
            "Unpacking tesseract-ocr-eng (4.00~git24-0e00fe6-1.2) ...\n",
            "Selecting previously unselected package tesseract-ocr-osd.\n",
            "Preparing to unpack .../tesseract-ocr-osd_4.00~git24-0e00fe6-1.2_all.deb ...\n",
            "Unpacking tesseract-ocr-osd (4.00~git24-0e00fe6-1.2) ...\n",
            "Selecting previously unselected package tesseract-ocr.\n",
            "Preparing to unpack .../tesseract-ocr_4.00~git2288-10f4998a-2_amd64.deb ...\n",
            "Unpacking tesseract-ocr (4.00~git2288-10f4998a-2) ...\n",
            "Setting up tesseract-ocr-osd (4.00~git24-0e00fe6-1.2) ...\n",
            "Setting up tesseract-ocr-eng (4.00~git24-0e00fe6-1.2) ...\n",
            "Processing triggers for man-db (2.8.3-2ubuntu0.1) ...\n",
            "Setting up tesseract-ocr (4.00~git2288-10f4998a-2) ...\n"
          ],
          "name": "stdout"
        }
      ]
    },
    {
      "cell_type": "code",
      "metadata": {
        "id": "-pcIYFTAIYzk",
        "colab_type": "code",
        "colab": {}
      },
      "source": [
        ""
      ],
      "execution_count": 0,
      "outputs": []
    }
  ]
}